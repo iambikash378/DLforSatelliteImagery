{
  "nbformat": 4,
  "nbformat_minor": 0,
  "metadata": {
    "colab": {
      "provenance": [],
      "authorship_tag": "ABX9TyN2NKkFfnzEa8SHoXczD932",
      "include_colab_link": true
    },
    "kernelspec": {
      "name": "python3",
      "display_name": "Python 3"
    },
    "language_info": {
      "name": "python"
    }
  },
  "cells": [
    {
      "cell_type": "markdown",
      "metadata": {
        "id": "view-in-github",
        "colab_type": "text"
      },
      "source": [
        "<a href=\"https://colab.research.google.com/github/iambikash378/DLforSatelliteImagery/blob/main/getting_the_data.ipynb\" target=\"_parent\"><img src=\"https://colab.research.google.com/assets/colab-badge.svg\" alt=\"Open In Colab\"/></a>"
      ]
    },
    {
      "cell_type": "code",
      "execution_count": null,
      "metadata": {
        "id": "DjRu_Im3e1A2"
      },
      "outputs": [],
      "source": []
    },
    {
      "cell_type": "code",
      "source": [
        "# Getting the area of interest. This is a rectangle centred around the Kathmandu valley\n",
        "geojson_geometry = {\n",
        "        \"type\": \"Polygon\",\n",
        "        \"coordinates\": [\n",
        "          [\n",
        "            [\n",
        "              85.26866438234003,\n",
        "              27.746384131757154\n",
        "            ],\n",
        "            [\n",
        "              85.26866438234003,\n",
        "              27.655370867009736\n",
        "            ],\n",
        "            [\n",
        "              85.3725706495647,\n",
        "              27.655370867009736\n",
        "            ],\n",
        "            [\n",
        "              85.3725706495647,\n",
        "              27.746384131757154\n",
        "            ],\n",
        "            [\n",
        "              85.26866438234003,\n",
        "              27.746384131757154\n",
        "            ]\n",
        "          ]\n",
        "        ]\n",
        "      }\n"
      ],
      "metadata": {
        "id": "BiQM9qYxgvPP"
      },
      "execution_count": 2,
      "outputs": []
    },
    {
      "cell_type": "code",
      "source": [
        "# Setting filters so that we narrow down our search for the images within the area\n",
        "\n",
        "#First we set up geometry filter i.e. Area Of Interest\n",
        "\n",
        "geometry_filter = {\n",
        "    \"type\" : \"Geometry_Filter\",\n",
        "    \"field_name\" : \"geometry\",\n",
        "    \"config\" : geojson_geometry\n",
        "}\n",
        "\n",
        "#Next we set up the date range filter\n",
        "\n",
        "date_range_filter = {\n",
        "    \"type\" : \"DateRangeFilter\",\n",
        "    \"field_name\" : \"acquired\",\n",
        "    \"config\" : {\n",
        "        \"gte\" : \"2024-06-23T00:00:00.000Z\",\n",
        "        \"lte\" : \"2024-06-26T00:00:00.000Z\"\n",
        "    }\n",
        "}\n",
        "\n",
        "#Next we also set up the cloud cover filter\n",
        "\n",
        "cloud_cover_filter = {\n",
        "    \"type\" : \"RangeFilter\",\n",
        "    \"field_name\" : \"cloud_cover\",\n",
        "    \"config\" : {\n",
        "        \"lte\" : 0.5\n",
        "    }\n",
        "}\n",
        "\n",
        "#Combined filter (Making sure all these filters are applied together)\n",
        "\n",
        "combined_filter = {\n",
        "    \"type\" : \"AndFilter\",\n",
        "    \"config\" : [ geometry_filter, date_range_filter, cloud_cover_filter]\n",
        "}"
      ],
      "metadata": {
        "id": "qbiZrwKHhp_C"
      },
      "execution_count": 4,
      "outputs": []
    },
    {
      "cell_type": "code",
      "source": [],
      "metadata": {
        "id": "hGgupsT6lzWd"
      },
      "execution_count": null,
      "outputs": []
    }
  ]
}