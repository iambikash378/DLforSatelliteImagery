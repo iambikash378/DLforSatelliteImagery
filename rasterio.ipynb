{
  "nbformat": 4,
  "nbformat_minor": 0,
  "metadata": {
    "colab": {
      "provenance": [],
      "authorship_tag": "ABX9TyOPvCHh33pX0OW7HpuR6J+R",
      "include_colab_link": true
    },
    "kernelspec": {
      "name": "python3",
      "display_name": "Python 3"
    },
    "language_info": {
      "name": "python"
    }
  },
  "cells": [
    {
      "cell_type": "markdown",
      "metadata": {
        "id": "view-in-github",
        "colab_type": "text"
      },
      "source": [
        "<a href=\"https://colab.research.google.com/github/iambikash378/DLforSatelliteImagery/blob/main/rasterio.ipynb\" target=\"_parent\"><img src=\"https://colab.research.google.com/assets/colab-badge.svg\" alt=\"Open In Colab\"/></a>"
      ]
    },
    {
      "cell_type": "code",
      "execution_count": 10,
      "metadata": {
        "colab": {
          "base_uri": "https://localhost:8080/"
        },
        "id": "MNNNwrbG8xQE",
        "outputId": "13a899db-d110-44a8-cb72-d6b77296a8d4"
      },
      "outputs": [
        {
          "output_type": "stream",
          "name": "stdout",
          "text": [
            "Drive already mounted at /content/drive; to attempt to forcibly remount, call drive.mount(\"/content/drive\", force_remount=True).\n"
          ]
        }
      ],
      "source": [
        "from google.colab import drive\n",
        "drive.mount('/content/drive')"
      ]
    },
    {
      "cell_type": "code",
      "source": [
        "!pip install rasterio"
      ],
      "metadata": {
        "colab": {
          "base_uri": "https://localhost:8080/"
        },
        "id": "3wCaxwJe94tC",
        "outputId": "39b359fd-4c97-4f01-affd-c27b85dd3b0c"
      },
      "execution_count": 4,
      "outputs": [
        {
          "output_type": "stream",
          "name": "stdout",
          "text": [
            "Collecting rasterio\n",
            "  Downloading rasterio-1.3.10-cp310-cp310-manylinux2014_x86_64.whl (21.5 MB)\n",
            "\u001b[2K     \u001b[90m━━━━━━━━━━━━━━━━━━━━━━━━━━━━━━━━━━━━━━━━\u001b[0m \u001b[32m21.5/21.5 MB\u001b[0m \u001b[31m47.1 MB/s\u001b[0m eta \u001b[36m0:00:00\u001b[0m\n",
            "\u001b[?25hCollecting affine (from rasterio)\n",
            "  Downloading affine-2.4.0-py3-none-any.whl (15 kB)\n",
            "Requirement already satisfied: attrs in /usr/local/lib/python3.10/dist-packages (from rasterio) (23.2.0)\n",
            "Requirement already satisfied: certifi in /usr/local/lib/python3.10/dist-packages (from rasterio) (2024.6.2)\n",
            "Requirement already satisfied: click>=4.0 in /usr/local/lib/python3.10/dist-packages (from rasterio) (8.1.7)\n",
            "Requirement already satisfied: cligj>=0.5 in /usr/local/lib/python3.10/dist-packages (from rasterio) (0.7.2)\n",
            "Requirement already satisfied: numpy in /usr/local/lib/python3.10/dist-packages (from rasterio) (1.25.2)\n",
            "Collecting snuggs>=1.4.1 (from rasterio)\n",
            "  Downloading snuggs-1.4.7-py3-none-any.whl (5.4 kB)\n",
            "Requirement already satisfied: click-plugins in /usr/local/lib/python3.10/dist-packages (from rasterio) (1.1.1)\n",
            "Requirement already satisfied: setuptools in /usr/local/lib/python3.10/dist-packages (from rasterio) (67.7.2)\n",
            "Requirement already satisfied: pyparsing>=2.1.6 in /usr/local/lib/python3.10/dist-packages (from snuggs>=1.4.1->rasterio) (3.1.2)\n",
            "Installing collected packages: snuggs, affine, rasterio\n",
            "Successfully installed affine-2.4.0 rasterio-1.3.10 snuggs-1.4.7\n"
          ]
        }
      ]
    },
    {
      "cell_type": "code",
      "source": [
        "import rasterio\n",
        "import numpy as np"
      ],
      "metadata": {
        "id": "i_L3rs7o-fst"
      },
      "execution_count": 11,
      "outputs": []
    },
    {
      "cell_type": "code",
      "source": [
        "img_file = \"/content/drive/MyDrive/20240624_042415_51_2459_3B_AnalyticMS_SR.tif\""
      ],
      "metadata": {
        "id": "ZNmMDrCR-qzi"
      },
      "execution_count": 16,
      "outputs": []
    },
    {
      "cell_type": "code",
      "source": [
        "sat_img = rasterio.open(img_file)"
      ],
      "metadata": {
        "id": "GPYz-6kp_bA3"
      },
      "execution_count": 17,
      "outputs": []
    },
    {
      "cell_type": "code",
      "source": [
        "print(sat_img.bounds)"
      ],
      "metadata": {
        "colab": {
          "base_uri": "https://localhost:8080/"
        },
        "id": "3_MiEjqQ_ejS",
        "outputId": "49baba4f-9416-4ff5-8848-f9ea1cc4f1d7"
      },
      "execution_count": 19,
      "outputs": [
        {
          "output_type": "stream",
          "name": "stdout",
          "text": [
            "BoundingBox(left=314910.0, bottom=3058971.0, right=345822.0, top=3081345.0)\n"
          ]
        }
      ]
    },
    {
      "cell_type": "code",
      "source": [
        "#Here the width and height is in metres\n",
        "\n",
        "width = sat_img.bounds.right - sat_img.bounds.left\n",
        "height = sat_img.bounds.top - sat_img.bounds.bottom"
      ],
      "metadata": {
        "id": "NZJJ4Z4-AXM_"
      },
      "execution_count": 22,
      "outputs": []
    },
    {
      "cell_type": "code",
      "source": [
        "print(\"height : {}, width : {}\".format(height, width))"
      ],
      "metadata": {
        "colab": {
          "base_uri": "https://localhost:8080/"
        },
        "id": "jyrI3EkdAkkm",
        "outputId": "b681e5db-9dff-456d-92db-9dd59500b7c4"
      },
      "execution_count": 26,
      "outputs": [
        {
          "output_type": "stream",
          "name": "stdout",
          "text": [
            "height : 22374.0, width : 30912.0\n"
          ]
        }
      ]
    },
    {
      "cell_type": "code",
      "source": [
        "px_width = sat_img.width\n",
        "px_height = sat_img.height\n",
        "\n",
        "print(\"height in pixels : {}, width in pixels : {}\".format(px_height, px_width))"
      ],
      "metadata": {
        "colab": {
          "base_uri": "https://localhost:8080/"
        },
        "id": "Pu1y67BHAgVZ",
        "outputId": "f5565a04-fecb-4f6b-dbda-5524a691a172"
      },
      "execution_count": 28,
      "outputs": [
        {
          "output_type": "stream",
          "name": "stdout",
          "text": [
            "height in pixels : 7458, width in pixels : 10304\n"
          ]
        }
      ]
    },
    {
      "cell_type": "code",
      "source": [
        "resolution = height / px_height\n",
        "print(resolution)"
      ],
      "metadata": {
        "colab": {
          "base_uri": "https://localhost:8080/"
        },
        "id": "myUqzYGyBN4I",
        "outputId": "8e81cb6f-7d00-4d90-a52b-275de80a46fc"
      },
      "execution_count": 29,
      "outputs": [
        {
          "output_type": "stream",
          "name": "stdout",
          "text": [
            "3.0\n"
          ]
        }
      ]
    },
    {
      "cell_type": "code",
      "source": [
        "sat_img.crs #This is the Coordinate Reference System"
      ],
      "metadata": {
        "colab": {
          "base_uri": "https://localhost:8080/"
        },
        "id": "iiz8evLZBjtf",
        "outputId": "38f838bd-7bc1-4241-b22c-c76733a4237a"
      },
      "execution_count": 30,
      "outputs": [
        {
          "output_type": "execute_result",
          "data": {
            "text/plain": [
              "CRS.from_epsg(32645)"
            ]
          },
          "metadata": {},
          "execution_count": 30
        }
      ]
    },
    {
      "cell_type": "code",
      "source": [
        "# Getting Coordinates\n",
        "\n",
        "topleft = sat_img.transform * (0, 0)\n",
        "botright = sat_img.transform * (width, height)\n",
        "\n",
        "print(topleft)\n",
        "print(botright)"
      ],
      "metadata": {
        "colab": {
          "base_uri": "https://localhost:8080/"
        },
        "id": "jRif3sndBtWw",
        "outputId": "e2c872b9-d472-4b14-9bf9-3bc7114c44b9"
      },
      "execution_count": 31,
      "outputs": [
        {
          "output_type": "stream",
          "name": "stdout",
          "text": [
            "(314910.0, 3081345.0)\n",
            "(407646.0, 3014223.0)\n"
          ]
        }
      ]
    },
    {
      "cell_type": "code",
      "source": [
        "print(sat_img.meta)"
      ],
      "metadata": {
        "colab": {
          "base_uri": "https://localhost:8080/"
        },
        "id": "eWHymKieDEOA",
        "outputId": "d95b54b7-c003-44a8-8fac-837742642273"
      },
      "execution_count": 33,
      "outputs": [
        {
          "output_type": "stream",
          "name": "stdout",
          "text": [
            "{'driver': 'GTiff', 'dtype': 'uint16', 'nodata': 0.0, 'width': 10304, 'height': 7458, 'count': 4, 'crs': CRS.from_epsg(32645), 'transform': Affine(3.0, 0.0, 314910.0,\n",
            "       0.0, -3.0, 3081345.0)}\n"
          ]
        }
      ]
    },
    {
      "cell_type": "code",
      "source": [
        "sat_img.indexes"
      ],
      "metadata": {
        "colab": {
          "base_uri": "https://localhost:8080/"
        },
        "id": "7qhPPqfkDa1x",
        "outputId": "8e2f1d72-ba39-4799-ead3-720294811b69"
      },
      "execution_count": 35,
      "outputs": [
        {
          "output_type": "execute_result",
          "data": {
            "text/plain": [
              "(1, 2, 3, 4)"
            ]
          },
          "metadata": {},
          "execution_count": 35
        }
      ]
    },
    {
      "cell_type": "code",
      "source": [
        "blue, green, red, nir = sat_img.read()"
      ],
      "metadata": {
        "id": "R37zRjhxDuKq"
      },
      "execution_count": 37,
      "outputs": []
    },
    {
      "cell_type": "code",
      "source": [
        "print(blue.shape)"
      ],
      "metadata": {
        "colab": {
          "base_uri": "https://localhost:8080/"
        },
        "id": "VC-xU5ssD7Oh",
        "outputId": "9cd5329a-94f6-4dc0-da7e-4c19fe096ae7"
      },
      "execution_count": 44,
      "outputs": [
        {
          "output_type": "stream",
          "name": "stdout",
          "text": [
            "(7458, 10304)\n"
          ]
        }
      ]
    },
    {
      "cell_type": "code",
      "source": [],
      "metadata": {
        "colab": {
          "base_uri": "https://localhost:8080/"
        },
        "id": "Un4i2r7nEI9w",
        "outputId": "496941ef-cb33-4bd2-f54f-7968f0bf8304"
      },
      "execution_count": 51,
      "outputs": [
        {
          "output_type": "stream",
          "name": "stdout",
          "text": [
            "[0 0 0 ... 0 0 0]\n"
          ]
        }
      ]
    },
    {
      "cell_type": "code",
      "source": [
        "print(np.amax(blue))"
      ],
      "metadata": {
        "colab": {
          "base_uri": "https://localhost:8080/"
        },
        "id": "fAma_AhGE2Df",
        "outputId": "2a593fce-3b50-4e71-af3b-80e61960dbe3"
      },
      "execution_count": 53,
      "outputs": [
        {
          "output_type": "stream",
          "name": "stdout",
          "text": [
            "8849\n"
          ]
        }
      ]
    },
    {
      "cell_type": "code",
      "source": [
        "px_x = sat_img.bounds.left + 5220\n",
        "px_y = sat_img.bounds.top - 1523\n",
        "\n",
        "row, col = sat_img.index(px_x, px_y)\n",
        "print(red[row,col])"
      ],
      "metadata": {
        "colab": {
          "base_uri": "https://localhost:8080/"
        },
        "id": "HNAyBzcuFJFV",
        "outputId": "69836e90-14a2-42dc-9d62-a7e025f9c352"
      },
      "execution_count": 57,
      "outputs": [
        {
          "output_type": "stream",
          "name": "stdout",
          "text": [
            "7429\n"
          ]
        }
      ]
    },
    {
      "cell_type": "code",
      "source": [],
      "metadata": {
        "id": "U5z2P3QiFxaS"
      },
      "execution_count": null,
      "outputs": []
    }
  ]
}